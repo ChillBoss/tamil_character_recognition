{
 "cells": [
  {
   "cell_type": "code",
   "execution_count": 36,
   "metadata": {},
   "outputs": [],
   "source": [
    "import keras\n",
    "import os\n",
    "import cv2\n",
    "import numpy as np\n",
    "from keras.models import Sequential\n",
    "from keras.layers import Dense\n",
    "from keras.utils import to_categorical\n",
    "from keras.layers import Dropout\n",
    "from keras.layers import Flatten\n",
    "from keras.layers.convolutional import Conv2D\n",
    "from keras.layers.convolutional import MaxPooling2D\n",
    "from keras.utils import np_utils\n",
    "from sklearn.model_selection import train_test_split\n",
    "from keras.preprocessing.image import ImageDataGenerator\n",
    "from skimage.io import imread,imsave\n",
    "import matplotlib.pyplot as plt\n",
    "from sklearn import metrics"
   ]
  },
  {
   "cell_type": "code",
   "execution_count": 2,
   "metadata": {},
   "outputs": [],
   "source": [
    "images=[]\n",
    "labels=[]\n",
    "for folders in os.listdir('./classified_dataset'):\n",
    "    for files in os.listdir('./classified_dataset/'+folders):\n",
    "        img=cv2.imread('./classified_dataset/'+folders+'/'+files,0)/255\n",
    "        img=cv2.resize(img,(128,128))\n",
    "        img.shape=(128,128,1)\n",
    "        images.append(img)\n",
    "        labels.append(folders)\n",
    "images=np.array(images)\n",
    "labels=np.array(labels)      "
   ]
  },
  {
   "cell_type": "code",
   "execution_count": 3,
   "metadata": {},
   "outputs": [
    {
     "data": {
      "text/plain": [
       "(2999, 128, 128, 1)"
      ]
     },
     "execution_count": 3,
     "metadata": {},
     "output_type": "execute_result"
    }
   ],
   "source": [
    "# no of images \n",
    "images.shape"
   ]
  },
  {
   "cell_type": "code",
   "execution_count": 4,
   "metadata": {},
   "outputs": [
    {
     "data": {
      "text/plain": [
       "array(['0', '1', '10', '2', '3', '4', '5', '6', '7', '8', '9'],\n",
       "      dtype='<U2')"
      ]
     },
     "execution_count": 4,
     "metadata": {},
     "output_type": "execute_result"
    }
   ],
   "source": [
    "#no of letters used\n",
    "np.unique(labels)"
   ]
  },
  {
   "cell_type": "code",
   "execution_count": 20,
   "metadata": {
    "scrolled": true
   },
   "outputs": [
    {
     "name": "stdout",
     "output_type": "stream",
     "text": [
      "_________________________________________________________________\n",
      "Layer (type)                 Output Shape              Param #   \n",
      "=================================================================\n",
      "conv2d_9 (Conv2D)            (None, 124, 124, 64)      1664      \n",
      "_________________________________________________________________\n",
      "max_pooling2d_9 (MaxPooling2 (None, 62, 62, 64)        0         \n",
      "_________________________________________________________________\n",
      "dropout_7 (Dropout)          (None, 62, 62, 64)        0         \n",
      "_________________________________________________________________\n",
      "conv2d_10 (Conv2D)           (None, 58, 58, 32)        51232     \n",
      "_________________________________________________________________\n",
      "max_pooling2d_10 (MaxPooling (None, 29, 29, 32)        0         \n",
      "_________________________________________________________________\n",
      "conv2d_11 (Conv2D)           (None, 25, 25, 32)        25632     \n",
      "_________________________________________________________________\n",
      "max_pooling2d_11 (MaxPooling (None, 12, 12, 32)        0         \n",
      "_________________________________________________________________\n",
      "dropout_8 (Dropout)          (None, 12, 12, 32)        0         \n",
      "_________________________________________________________________\n",
      "conv2d_12 (Conv2D)           (None, 8, 8, 32)          25632     \n",
      "_________________________________________________________________\n",
      "max_pooling2d_12 (MaxPooling (None, 4, 4, 32)          0         \n",
      "_________________________________________________________________\n",
      "dropout_9 (Dropout)          (None, 4, 4, 32)          0         \n",
      "_________________________________________________________________\n",
      "flatten_3 (Flatten)          (None, 512)               0         \n",
      "_________________________________________________________________\n",
      "dense_5 (Dense)              (None, 256)               131328    \n",
      "_________________________________________________________________\n",
      "dense_6 (Dense)              (None, 11)                2827      \n",
      "=================================================================\n",
      "Total params: 238,315\n",
      "Trainable params: 238,315\n",
      "Non-trainable params: 0\n",
      "_________________________________________________________________\n"
     ]
    }
   ],
   "source": [
    "model = Sequential()\n",
    "model.add(Conv2D(64, (5, 5), input_shape=(128,128,1), activation='relu'))\n",
    "model.add(MaxPooling2D(pool_size=(2, 2)))\n",
    "model.add(Dropout(0.2))\n",
    "model.add(Conv2D(32, (5, 5), activation='relu'))\n",
    "model.add(MaxPooling2D(pool_size=(2, 2)))\n",
    "model.add(Conv2D(32, (5, 5), activation='relu'))\n",
    "model.add(MaxPooling2D(pool_size=(2, 2)))\n",
    "model.add(Dropout(0.2))\n",
    "model.add(Conv2D(32, (5, 5), activation='relu'))\n",
    "model.add(MaxPooling2D(pool_size=(2, 2)))\n",
    "model.add(Dropout(0.2))\n",
    "model.add(Flatten())\n",
    "model.add(Dense(256, activation='relu'))\n",
    "model.add(Dense(11, activation='softmax'))\n",
    "model.summary()"
   ]
  },
  {
   "cell_type": "code",
   "execution_count": 21,
   "metadata": {},
   "outputs": [],
   "source": [
    "model.compile(loss=keras.losses.categorical_crossentropy, optimizer=keras.optimizers.Adam(), metrics=[keras.metrics.categorical_accuracy])"
   ]
  },
  {
   "cell_type": "code",
   "execution_count": 22,
   "metadata": {},
   "outputs": [],
   "source": [
    "y_labels=to_categorical(labels)"
   ]
  },
  {
   "cell_type": "code",
   "execution_count": 23,
   "metadata": {},
   "outputs": [
    {
     "data": {
      "text/plain": [
       "(2999, 11)"
      ]
     },
     "execution_count": 23,
     "metadata": {},
     "output_type": "execute_result"
    }
   ],
   "source": [
    "y_labels.shape"
   ]
  },
  {
   "cell_type": "code",
   "execution_count": 24,
   "metadata": {},
   "outputs": [
    {
     "data": {
      "text/plain": [
       "<keras.initializers.VarianceScaling at 0x7fec44dac208>"
      ]
     },
     "execution_count": 24,
     "metadata": {},
     "output_type": "execute_result"
    }
   ],
   "source": [
    "X_train, X_test, y_train, y_test = train_test_split(images, y_labels, test_size=0.33, random_state=42)\n",
    "keras.initializers.lecun_uniform(seed=None)"
   ]
  },
  {
   "cell_type": "code",
   "execution_count": 25,
   "metadata": {},
   "outputs": [
    {
     "data": {
      "text/plain": [
       "(990, 128, 128, 1)"
      ]
     },
     "execution_count": 25,
     "metadata": {},
     "output_type": "execute_result"
    }
   ],
   "source": [
    "X_test.shape"
   ]
  },
  {
   "cell_type": "code",
   "execution_count": 26,
   "metadata": {},
   "outputs": [
    {
     "data": {
      "text/plain": [
       "(2009, 128, 128, 1)"
      ]
     },
     "execution_count": 26,
     "metadata": {},
     "output_type": "execute_result"
    }
   ],
   "source": [
    "X_train.shape"
   ]
  },
  {
   "cell_type": "code",
   "execution_count": 27,
   "metadata": {
    "scrolled": true
   },
   "outputs": [
    {
     "data": {
      "text/plain": [
       "(2009, 11)"
      ]
     },
     "execution_count": 27,
     "metadata": {},
     "output_type": "execute_result"
    }
   ],
   "source": [
    "y_train.shape"
   ]
  },
  {
   "cell_type": "code",
   "execution_count": 28,
   "metadata": {
    "scrolled": true
   },
   "outputs": [
    {
     "data": {
      "text/plain": [
       "(990, 11)"
      ]
     },
     "execution_count": 28,
     "metadata": {},
     "output_type": "execute_result"
    }
   ],
   "source": [
    "y_test.shape"
   ]
  },
  {
   "cell_type": "code",
   "execution_count": 29,
   "metadata": {
    "scrolled": true
   },
   "outputs": [
    {
     "name": "stdout",
     "output_type": "stream",
     "text": [
      "Train on 1808 samples, validate on 201 samples\n",
      "Epoch 1/15\n",
      "1808/1808 [==============================] - 22s 12ms/step - loss: 2.4234 - categorical_accuracy: 0.0951 - val_loss: 2.3978 - val_categorical_accuracy: 0.0846\n",
      "Epoch 2/15\n",
      "1808/1808 [==============================] - 21s 12ms/step - loss: 2.3421 - categorical_accuracy: 0.1455 - val_loss: 1.8898 - val_categorical_accuracy: 0.3483\n",
      "Epoch 3/15\n",
      "1808/1808 [==============================] - 21s 11ms/step - loss: 1.4035 - categorical_accuracy: 0.5642 - val_loss: 0.7761 - val_categorical_accuracy: 0.7811\n",
      "Epoch 4/15\n",
      "1808/1808 [==============================] - 22s 12ms/step - loss: 0.6757 - categorical_accuracy: 0.7666 - val_loss: 0.3988 - val_categorical_accuracy: 0.8955\n",
      "Epoch 5/15\n",
      "1808/1808 [==============================] - 22s 12ms/step - loss: 0.4516 - categorical_accuracy: 0.8451 - val_loss: 0.2351 - val_categorical_accuracy: 0.9254\n",
      "Epoch 6/15\n",
      "1808/1808 [==============================] - 21s 11ms/step - loss: 0.2988 - categorical_accuracy: 0.8993 - val_loss: 0.2553 - val_categorical_accuracy: 0.9204\n",
      "Epoch 7/15\n",
      "1808/1808 [==============================] - 20s 11ms/step - loss: 0.2577 - categorical_accuracy: 0.9054 - val_loss: 0.1647 - val_categorical_accuracy: 0.9552\n",
      "Epoch 8/15\n",
      "1808/1808 [==============================] - 21s 11ms/step - loss: 0.2061 - categorical_accuracy: 0.9275 - val_loss: 0.1744 - val_categorical_accuracy: 0.9353\n",
      "Epoch 9/15\n",
      "1808/1808 [==============================] - 22s 12ms/step - loss: 0.1624 - categorical_accuracy: 0.9386 - val_loss: 0.2123 - val_categorical_accuracy: 0.9204\n",
      "Epoch 10/15\n",
      "1808/1808 [==============================] - 22s 12ms/step - loss: 0.1316 - categorical_accuracy: 0.9513 - val_loss: 0.1077 - val_categorical_accuracy: 0.9652\n",
      "Epoch 11/15\n",
      "1808/1808 [==============================] - 21s 12ms/step - loss: 0.1111 - categorical_accuracy: 0.9635 - val_loss: 0.3349 - val_categorical_accuracy: 0.9055\n",
      "Epoch 12/15\n",
      "1808/1808 [==============================] - 21s 11ms/step - loss: 0.1383 - categorical_accuracy: 0.9480 - val_loss: 0.1214 - val_categorical_accuracy: 0.9552\n",
      "Epoch 13/15\n",
      "1808/1808 [==============================] - 21s 12ms/step - loss: 0.0979 - categorical_accuracy: 0.9640 - val_loss: 0.1379 - val_categorical_accuracy: 0.9602\n",
      "Epoch 14/15\n",
      "1808/1808 [==============================] - 21s 11ms/step - loss: 0.0837 - categorical_accuracy: 0.9663 - val_loss: 0.1860 - val_categorical_accuracy: 0.9453\n",
      "Epoch 15/15\n",
      "1808/1808 [==============================] - 21s 12ms/step - loss: 0.0743 - categorical_accuracy: 0.9762 - val_loss: 0.2464 - val_categorical_accuracy: 0.9453\n"
     ]
    }
   ],
   "source": [
    "history = model.fit(X_train,y_train,validation_split=0.1,verbose=1,epochs=15)"
   ]
  },
  {
   "cell_type": "code",
   "execution_count": 30,
   "metadata": {},
   "outputs": [],
   "source": [
    "model.save_weights(\"my_model_weights.h5\")"
   ]
  },
  {
   "cell_type": "code",
   "execution_count": 31,
   "metadata": {
    "collapsed": true
   },
   "outputs": [
    {
     "data": {
      "text/plain": [
       "{'val_loss': [2.397849136324071,\n",
       "  1.8898208864885777,\n",
       "  0.7760763862239781,\n",
       "  0.39883496571536087,\n",
       "  0.23514424427528285,\n",
       "  0.2552739063750452,\n",
       "  0.16467082593126678,\n",
       "  0.17442912278483755,\n",
       "  0.2122970114818853,\n",
       "  0.10773050216077572,\n",
       "  0.334918917708136,\n",
       "  0.121390446056774,\n",
       "  0.1379307672307266,\n",
       "  0.18599267875710826,\n",
       "  0.2463935592712195],\n",
       " 'val_categorical_accuracy': [0.08457711446492826,\n",
       "  0.34825870691247246,\n",
       "  0.7810945282528057,\n",
       "  0.8955223886527826,\n",
       "  0.9253731343283582,\n",
       "  0.9203980099502488,\n",
       "  0.9552238805970149,\n",
       "  0.9353233830845771,\n",
       "  0.9203980099502488,\n",
       "  0.9651741293532339,\n",
       "  0.905472637112461,\n",
       "  0.9552238805970149,\n",
       "  0.9601990049751243,\n",
       "  0.945273631840796,\n",
       "  0.945273631840796],\n",
       " 'loss': [2.4234171082488203,\n",
       "  2.3420720902164427,\n",
       "  1.403481393788768,\n",
       "  0.6756543538211721,\n",
       "  0.45164513231906217,\n",
       "  0.2987867845139936,\n",
       "  0.2576957903143051,\n",
       "  0.20605390987037558,\n",
       "  0.16238643255381457,\n",
       "  0.13159439053419417,\n",
       "  0.11105151131617284,\n",
       "  0.13833998511256898,\n",
       "  0.09793842002436255,\n",
       "  0.08374665621503265,\n",
       "  0.07434590671013679],\n",
       " 'categorical_accuracy': [0.09513274336283185,\n",
       "  0.1454646017699115,\n",
       "  0.5641592920353983,\n",
       "  0.7665929203539823,\n",
       "  0.8451327433628318,\n",
       "  0.8993362831858407,\n",
       "  0.9054203539823009,\n",
       "  0.9275442477876106,\n",
       "  0.9386061946902655,\n",
       "  0.9513274336283186,\n",
       "  0.963495575221239,\n",
       "  0.9480088495575221,\n",
       "  0.9640486725663717,\n",
       "  0.9662610619469026,\n",
       "  0.9762168141592921]}"
      ]
     },
     "execution_count": 31,
     "metadata": {},
     "output_type": "execute_result"
    }
   ],
   "source": [
    "history.history"
   ]
  },
  {
   "cell_type": "code",
   "execution_count": 32,
   "metadata": {},
   "outputs": [
    {
     "data": {
      "image/png": "[encoded data removed]",
      "text/plain": [
       "<Figure size 432x288 with 1 Axes>"
      ]
     },
     "metadata": {
      "needs_background": "light"
     },
     "output_type": "display_data"
    }
   ],
   "source": [
    "plt.plot(history.history['categorical_accuracy'])\n",
    "plt.plot(history.history['val_categorical_accuracy'])\n",
    "plt.title('model accuracy')\n",
    "plt.ylabel('accuracy')\n",
    "plt.xlabel('epoch')\n",
    "plt.legend(['train', 'test'], loc='upper left')\n",
    "plt.show()"
   ]
  },
  {
   "cell_type": "code",
   "execution_count": 33,
   "metadata": {},
   "outputs": [
    {
     "data": {
      "image/png": "[encoded data removed]",
      "text/plain": [
       "<Figure size 432x288 with 1 Axes>"
      ]
     },
     "metadata": {
      "needs_background": "light"
     },
     "output_type": "display_data"
    }
   ],
   "source": [
    "plt.plot(history.history['loss'])\n",
    "plt.plot(history.history['val_loss'])\n",
    "plt.title('model loss')\n",
    "plt.ylabel('loss')\n",
    "plt.xlabel('epoch')\n",
    "plt.legend(['train', 'test'], loc='upper left')\n",
    "plt.show()"
   ]
  },
  {
   "cell_type": "code",
   "execution_count": 49,
   "metadata": {},
   "outputs": [],
   "source": [
    "y_pred  = model.predict_classes(X_test)"
   ]
  },
  {
   "cell_type": "code",
   "execution_count": 50,
   "metadata": {
    "scrolled": true
   },
   "outputs": [
    {
     "data": {
      "text/plain": [
       "(990,)"
      ]
     },
     "execution_count": 50,
     "metadata": {},
     "output_type": "execute_result"
    }
   ],
   "source": [
    "y_pred.shape"
   ]
  },
  {
   "cell_type": "code",
   "execution_count": 52,
   "metadata": {},
   "outputs": [
    {
     "data": {
      "text/plain": [
       "(990,)"
      ]
     },
     "execution_count": 52,
     "metadata": {},
     "output_type": "execute_result"
    }
   ],
   "source": [
    "test_set = np.where(y_test==1)[1]\n",
    "test_set.shape"
   ]
  },
  {
   "cell_type": "code",
   "execution_count": 56,
   "metadata": {
    "scrolled": true
   },
   "outputs": [
    {
     "data": {
      "text/plain": [
       "0.908080808080808"
      ]
     },
     "execution_count": 56,
     "metadata": {},
     "output_type": "execute_result"
    }
   ],
   "source": [
    "metrics.accuracy_score(test_set,y_pred)"
   ]
  },
  {
   "cell_type": "code",
   "execution_count": 59,
   "metadata": {},
   "outputs": [
    {
     "data": {
      "text/plain": [
       "array([[92,  6,  2,  0,  0,  0,  0,  0,  0,  0,  0],\n",
       "       [ 3, 85,  0,  0,  0,  0,  1,  2,  0,  0,  0],\n",
       "       [ 3,  0, 85,  0,  0,  0,  0,  0,  0,  0,  0],\n",
       "       [ 0,  0,  0, 78,  0,  1,  3,  0,  0,  0,  0],\n",
       "       [ 0,  0,  0,  0, 78,  0,  0,  2,  0,  0,  0],\n",
       "       [ 0,  0,  2,  1,  0, 88,  0,  0,  1,  2,  0],\n",
       "       [ 1,  0,  0,  0,  0,  0, 77, 12,  1,  1,  1],\n",
       "       [ 0,  0,  0,  0,  0,  0,  3, 84,  0,  1,  0],\n",
       "       [ 0,  0,  0,  0,  0,  0,  0,  0, 92,  0,  2],\n",
       "       [ 0,  0,  0,  0,  0,  0,  0,  3,  0, 80, 11],\n",
       "       [ 0,  0,  2,  0,  0,  0,  1,  0,  0, 23, 60]])"
      ]
     },
     "execution_count": 59,
     "metadata": {},
     "output_type": "execute_result"
    }
   ],
   "source": [
    "metrics.confusion_matrix(test_set,y_pred)"
   ]
  },
  {
   "cell_type": "code",
   "execution_count": 61,
   "metadata": {},
   "outputs": [
    {
     "data": {
      "text/plain": [
       "(array([0.92929293, 0.93406593, 0.93406593, 0.98734177, 1.        ,\n",
       "        0.98876404, 0.90588235, 0.81553398, 0.9787234 , 0.74766355,\n",
       "        0.81081081]),\n",
       " array([0.92      , 0.93406593, 0.96590909, 0.95121951, 0.975     ,\n",
       "        0.93617021, 0.82795699, 0.95454545, 0.9787234 , 0.85106383,\n",
       "        0.69767442]),\n",
       " array([0.92462312, 0.93406593, 0.94972067, 0.9689441 , 0.98734177,\n",
       "        0.96174863, 0.86516854, 0.87958115, 0.9787234 , 0.7960199 ,\n",
       "        0.75      ]),\n",
       " array([100,  91,  88,  82,  80,  94,  93,  88,  94,  94,  86]))"
      ]
     },
     "execution_count": 61,
     "metadata": {},
     "output_type": "execute_result"
    }
   ],
   "source": [
    "metrics.precision_recall_fscore_support(test_set,y_pred)"
   ]
  }
 ],
 "metadata": {
  "kernelspec": {
   "display_name": "Python 3",
   "language": "python",
   "name": "python3"
  },
  "language_info": {
   "codemirror_mode": {
    "name": "ipython",
    "version": 3
   },
   "file_extension": ".py",
   "mimetype": "text/x-python",
   "name": "python",
   "nbconvert_exporter": "python",
   "pygments_lexer": "ipython3",
   "version": "3.7.3"
  }
 },
 "nbformat": 4,
 "nbformat_minor": 2
}